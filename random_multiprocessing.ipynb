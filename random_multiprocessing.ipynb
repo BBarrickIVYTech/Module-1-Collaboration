{
 "cells": [
  {
   "cell_type": "code",
   "execution_count": 3,
   "id": "19a77d93-554d-4821-8e84-53a82fb5f07b",
   "metadata": {},
   "outputs": [],
   "source": [
    "import multiprocessing\n",
    "import time\n",
    "import random\n",
    "from datetime import datetime\n",
    "\n",
    "def worker(process_id):\n",
    "    \n",
    "    wait_time = random.uniform(0, 1)\n",
    "    time.sleep(wait_time)  \n",
    "\n",
    "    print(f\"Process {process_id} finished at {datetime.now()} after waiting {wait_time:.2f} seconds.\")\n",
    "\n",
    "if __name__ == \"__main__\":\n",
    "    processes = []\n",
    "\n",
    "   \n",
    "    for i in range(3):\n",
    "        process = multiprocessing.Process(target=worker, args=(i,))\n",
    "        processes.append(process)\n",
    "        process.start()\n",
    "\n",
    "    \n",
    "    for process in processes:\n",
    "        process.join()"
   ]
  },
  {
   "cell_type": "code",
   "execution_count": null,
   "id": "cbca71a1-a858-4b52-abf7-c1b55c8f9495",
   "metadata": {},
   "outputs": [],
   "source": []
  }
 ],
 "metadata": {
  "kernelspec": {
   "display_name": "Python 3 (ipykernel)",
   "language": "python",
   "name": "python3"
  },
  "language_info": {
   "codemirror_mode": {
    "name": "ipython",
    "version": 3
   },
   "file_extension": ".py",
   "mimetype": "text/x-python",
   "name": "python",
   "nbconvert_exporter": "python",
   "pygments_lexer": "ipython3",
   "version": "3.12.7"
  }
 },
 "nbformat": 4,
 "nbformat_minor": 5
}
